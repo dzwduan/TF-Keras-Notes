{
 "cells": [
  {
   "cell_type": "code",
   "execution_count": 8,
   "metadata": {
    "ExecuteTime": {
     "start_time": "2018-04-21T14:59:05.484Z"
    }
   },
   "outputs": [
    {
     "name": "stdout",
     "output_type": "stream",
     "text": [
      "Platform: Linux-4.13.0-38-generic-x86_64-with-debian-stretch-sid\n",
      "Tensorflow version: 1.7.0\n",
      "Keras version: 2.1.5\n"
     ]
    }
   ],
   "source": [
    "# 這個Jupyter Notebook的環境\n",
    "import platform\n",
    "import tensorflow\n",
    "import keras\n",
    "print(\"Platform: {}\".format(platform.platform()))\n",
    "print(\"Tensorflow version: {}\".format(tensorflow.__version__))\n",
    "print(\"Keras version: {}\".format(keras.__version__))\n",
    "\n",
    "%matplotlib inline\n",
    "import matplotlib.pyplot as plt\n",
    "import matplotlib.image as mpimg\n",
    "import numpy as np\n",
    "from IPython.display import Image"
   ]
  },
  {
   "cell_type": "code",
   "execution_count": 9,
   "metadata": {
    "ExecuteTime": {
     "start_time": "2018-04-21T14:59:05.492Z"
    }
   },
   "outputs": [],
   "source": [
    "from keras.applications.vgg16 import VGG16\n",
    "model_vgg16=VGG16()  #输入尺寸是224x224"
   ]
  },
  {
   "cell_type": "code",
   "execution_count": 10,
   "metadata": {
    "ExecuteTime": {
     "start_time": "2018-04-21T14:59:05.496Z"
    }
   },
   "outputs": [
    {
     "data": {
      "text/plain": [
       "(224, 224, 3)"
      ]
     },
     "execution_count": 10,
     "metadata": {},
     "output_type": "execute_result"
    }
   ],
   "source": [
    "from keras.preprocessing.image import load_img\n",
    "from keras.preprocessing.image import img_to_array\n",
    "\n",
    "img_file = 'cat.png'\n",
    "image = load_img(img_file, target_size=(224, 224)) \n",
    "image = img_to_array(image)\n",
    "image.shape"
   ]
  },
  {
   "cell_type": "code",
   "execution_count": 11,
   "metadata": {
    "ExecuteTime": {
     "start_time": "2018-04-21T14:59:05.499Z"
    }
   },
   "outputs": [
    {
     "data": {
      "text/plain": [
       "(1, 224, 224, 3)"
      ]
     },
     "execution_count": 11,
     "metadata": {},
     "output_type": "execute_result"
    }
   ],
   "source": [
    "image = image.reshape((1,*image.shape))\n",
    "image.shape"
   ]
  },
  {
   "cell_type": "code",
   "execution_count": 12,
   "metadata": {
    "ExecuteTime": {
     "start_time": "2018-04-21T14:59:05.502Z"
    }
   },
   "outputs": [],
   "source": [
    "from keras.applications.vgg16 import preprocess_input\n",
    "\n",
    "image = preprocess_input(image)\n",
    "y_pred = model_vgg16.predict(image)"
   ]
  },
  {
   "cell_type": "code",
   "execution_count": 15,
   "metadata": {
    "ExecuteTime": {
     "start_time": "2018-04-21T14:59:05.515Z"
    }
   },
   "outputs": [
    {
     "data": {
      "text/plain": [
       "[[('n02124075', 'Egyptian_cat', 0.35654712),\n",
       "  ('n02123045', 'tabby', 0.08611765),\n",
       "  ('n02883205', 'bow_tie', 0.04541603),\n",
       "  ('n02123159', 'tiger_cat', 0.037106406),\n",
       "  ('n02971356', 'carton', 0.0289532)]]"
      ]
     },
     "execution_count": 15,
     "metadata": {},
     "output_type": "execute_result"
    }
   ],
   "source": [
    "from keras.applications.vgg16 import decode_predictions\n",
    "\n",
    "label = decode_predictions(y_pred)  #返回一个类别的列表和每个类别的概率\n",
    "label"
   ]
  },
  {
   "cell_type": "code",
   "execution_count": 20,
   "metadata": {},
   "outputs": [
    {
     "name": "stdout",
     "output_type": "stream",
     "text": [
      "Egyptian_cat (21.24%)\n"
     ]
    }
   ],
   "source": [
    "# vgg19\n",
    "from keras.applications.vgg19 import VGG19\n",
    "from keras.preprocessing import image\n",
    "from keras.applications.vgg19 import preprocess_input\n",
    "from keras.applications.vgg19 import decode_predictions\n",
    "\n",
    "model_vgg19 = VGG19(weights='imagenet')#载入权重\n",
    "image_file = 'cat.png'\n",
    "image = load_img(image_file,target_size=(224,224)) #导入图片\n",
    "image = img_to_array(image)\n",
    "image = image.reshape((1,*image.shape))#转化为Numpy,并且调整维度\n",
    "image = preprocess_input(image) #准备vgg19所需要的图像预处理\n",
    "y_pred = model_vgg19.predict(image)\n",
    "label = decode_predictions(y_pred)\n",
    "label = label[0][0]\n",
    "print('%s (%.2f%%)' % (label[1], label[2]*100))"
   ]
  },
  {
   "cell_type": "code",
   "execution_count": 21,
   "metadata": {},
   "outputs": [
    {
     "name": "stdout",
     "output_type": "stream",
     "text": [
      "Egyptian_cat (47.28%)\n"
     ]
    }
   ],
   "source": [
    "# Resnet50\n",
    "from keras.applications.resnet50 import ResNet50\n",
    "from keras.preprocessing import image\n",
    "from keras.applications.resnet50 import preprocess_input\n",
    "from keras.applications.resnet50 import decode_predictions\n",
    "\n",
    "model_resnet50 = ResNet50(weights='imagenet')\n",
    "image_file = 'cat.png'\n",
    "image = load_img(image_file,target_size=(224,224)) #导入图片\n",
    "image = img_to_array(image)\n",
    "image = image.reshape((1,*image.shape))#转化为Numpy,并且调整维度\n",
    "image = preprocess_input(image) #准备vgg19所需要的图像预处理\n",
    "y_pred = model_resnet50.predict(image)# 預測所有產出類別的機率\n",
    "label = decode_predictions(y_pred)# 將機率轉換為類別標籤\n",
    "label = label[0][0]\n",
    "print('%s (%.2f%%)' % (label[1], label[2]*100))"
   ]
  },
  {
   "cell_type": "code",
   "execution_count": 23,
   "metadata": {},
   "outputs": [
    {
     "name": "stdout",
     "output_type": "stream",
     "text": [
      "Egyptian_cat (95.24%)\n"
     ]
    }
   ],
   "source": [
    "# xception\n",
    "from keras.applications.xception import Xception\n",
    "from keras.preprocessing import image\n",
    "from keras.preprocessing.image import load_img\n",
    "from keras.applications.xception import preprocess_input\n",
    "from keras.applications.xception import decode_predictions\n",
    "\n",
    "model_xception = Xception(weights='imagenet')\n",
    "image_file = 'cat.png'\n",
    "image = load_img(image_file,target_size=(224,224)) #导入图片\n",
    "image = img_to_array(image)\n",
    "image = image.reshape((1,*image.shape))#转化为Numpy,并且调整维度\n",
    "image = preprocess_input(image) #准备vgg19所需要的图像预处理\n",
    "y_pred = model_xception.predict(image)# 預測所有產出類別的機率\n",
    "label = decode_predictions(y_pred)# 將機率轉換為類別標籤\n",
    "label = label[0][0]\n",
    "print('%s (%.2f%%)' % (label[1], label[2]*100))"
   ]
  },
  {
   "cell_type": "code",
   "execution_count": null,
   "metadata": {},
   "outputs": [],
   "source": []
  }
 ],
 "metadata": {
  "kernelspec": {
   "display_name": "Python 3",
   "language": "python",
   "name": "python3"
  },
  "language_info": {
   "codemirror_mode": {
    "name": "ipython",
    "version": 3
   },
   "file_extension": ".py",
   "mimetype": "text/x-python",
   "name": "python",
   "nbconvert_exporter": "python",
   "pygments_lexer": "ipython3",
   "version": "3.6.4"
  },
  "latex_envs": {
   "LaTeX_envs_menu_present": true,
   "autoclose": false,
   "autocomplete": true,
   "bibliofile": "biblio.bib",
   "cite_by": "apalike",
   "current_citInitial": 1,
   "eqLabelWithNumbers": true,
   "eqNumInitial": 1,
   "hotkeys": {
    "equation": "Ctrl-E",
    "itemize": "Ctrl-I"
   },
   "labels_anchors": false,
   "latex_user_defs": false,
   "report_style_numbering": false,
   "user_envs_cfg": false
  },
  "toc": {
   "base_numbering": 1,
   "nav_menu": {},
   "number_sections": true,
   "sideBar": true,
   "skip_h1_title": false,
   "title_cell": "Table of Contents",
   "title_sidebar": "Contents",
   "toc_cell": false,
   "toc_position": {},
   "toc_section_display": true,
   "toc_window_display": false
  }
 },
 "nbformat": 4,
 "nbformat_minor": 2
}
