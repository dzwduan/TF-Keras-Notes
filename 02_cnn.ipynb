{
 "cells": [
  {
   "cell_type": "code",
   "execution_count": 14,
   "metadata": {
    "ExecuteTime": {
     "end_time": "2018-04-20T04:43:59.703188Z",
     "start_time": "2018-04-20T04:43:59.301149Z"
    }
   },
   "outputs": [
    {
     "name": "stdout",
     "output_type": "stream",
     "text": [
      "The autoreload extension is already loaded. To reload it, use:\n",
      "  %reload_ext autoreload\n"
     ]
    }
   ],
   "source": [
    "%matplotlib inline\n",
    "import matplotlib.pyplot as plt\n",
    "import tensorflow as tf\n",
    "import numpy as np\n",
    "from sklearn.metrics import confusion_matrix\n",
    "import time\n",
    "from datetime import timedelta\n",
    "import math\n",
    "from tf_utils import *\n",
    "# We also need PrettyTensor.\n",
    "# from tf.keras.models import Sequential  # This does not work!\n",
    "from tensorflow.python.keras.models import Sequential\n",
    "from tensorflow.python.keras.layers import InputLayer, Input\n",
    "from tensorflow.python.keras.layers import Reshape, MaxPooling2D\n",
    "from tensorflow.python.keras.layers import Conv2D, Dense, Flatten\n",
    "%load_ext autoreload\n",
    "%autoreload 2\n"
   ]
  },
  {
   "cell_type": "code",
   "execution_count": 4,
   "metadata": {
    "ExecuteTime": {
     "end_time": "2018-04-20T04:35:06.554491Z",
     "start_time": "2018-04-20T04:35:04.618463Z"
    }
   },
   "outputs": [
    {
     "name": "stdout",
     "output_type": "stream",
     "text": [
      "Extracting data/MNIST/train-images-idx3-ubyte.gz\n",
      "Extracting data/MNIST/train-labels-idx1-ubyte.gz\n",
      "Extracting data/MNIST/t10k-images-idx3-ubyte.gz\n",
      "Extracting data/MNIST/t10k-labels-idx1-ubyte.gz\n"
     ]
    }
   ],
   "source": [
    "from tensorflow.examples.tutorials.mnist import input_data\n",
    "data = input_data.read_data_sets('data/MNIST/', one_hot=True)"
   ]
  },
  {
   "cell_type": "code",
   "execution_count": 15,
   "metadata": {
    "ExecuteTime": {
     "end_time": "2018-04-20T04:44:24.899623Z",
     "start_time": "2018-04-20T04:44:24.524629Z"
    }
   },
   "outputs": [
    {
     "data": {
      "text/plain": [
       "'2.0.8-tf'"
      ]
     },
     "execution_count": 15,
     "metadata": {},
     "output_type": "execute_result"
    }
   ],
   "source": [
    "tf.keras.__version__"
   ]
  },
  {
   "cell_type": "code",
   "execution_count": 5,
   "metadata": {
    "ExecuteTime": {
     "end_time": "2018-04-20T04:35:06.948466Z",
     "start_time": "2018-04-20T04:35:06.556449Z"
    }
   },
   "outputs": [
    {
     "name": "stdout",
     "output_type": "stream",
     "text": [
      "Size of:\n",
      "- Training-set:\t\t55000\n",
      "- Test-set:\t\t10000\n",
      "- Validation-set:\t5000\n"
     ]
    }
   ],
   "source": [
    "print(\"Size of:\")\n",
    "print(\"- Training-set:\\t\\t{}\".format(len(data.train.labels)))\n",
    "print(\"- Test-set:\\t\\t{}\".format(len(data.test.labels)))\n",
    "print(\"- Validation-set:\\t{}\".format(len(data.validation.labels)))"
   ]
  },
  {
   "cell_type": "code",
   "execution_count": 37,
   "metadata": {
    "ExecuteTime": {
     "end_time": "2018-04-20T06:08:45.158575Z",
     "start_time": "2018-04-20T06:08:44.765512Z"
    }
   },
   "outputs": [],
   "source": [
    "data.test.cls = np.argmax(data.test.labels, axis=1)"
   ]
  },
  {
   "cell_type": "code",
   "execution_count": 16,
   "metadata": {
    "ExecuteTime": {
     "end_time": "2018-04-20T05:49:35.988599Z",
     "start_time": "2018-04-20T05:49:35.583567Z"
    }
   },
   "outputs": [],
   "source": [
    "img_size = 28\n",
    "img_size_flat = img_size * img_size\n",
    "img_shape = (img_size, img_size)\n",
    "num_channels = 1\n",
    "num_classes = 10\n",
    "img_shape_full=(img_size,img_size,1)"
   ]
  },
  {
   "cell_type": "code",
   "execution_count": 11,
   "metadata": {
    "ExecuteTime": {
     "end_time": "2018-04-20T04:35:27.403891Z",
     "start_time": "2018-04-20T04:35:26.702923Z"
    }
   },
   "outputs": [
    {
     "data": {
      "image/png": "[encoded data removed]",
      "text/plain": [
       "<matplotlib.figure.Figure at 0x25c5d542e10>"
      ]
     },
     "metadata": {},
     "output_type": "display_data"
    }
   ],
   "source": [
    "images=data.test.images[:9]\n",
    "cls_true=data.test.cls[:9]\n",
    "plot_images(images=images,cls_true=cls_true,img_shape=img_shape)"
   ]
  },
  {
   "cell_type": "code",
   "execution_count": 19,
   "metadata": {
    "ExecuteTime": {
     "end_time": "2018-04-20T05:53:05.249642Z",
     "start_time": "2018-04-20T05:53:04.759570Z"
    }
   },
   "outputs": [],
   "source": [
    "model=Sequential()\n",
    "model.add(InputLayer(input_shape=(img_size_flat,)))\n",
    "model.add(Reshape(img_shape_full))\n",
    "model.add(Conv2D(kernel_size=5,strides=1,filters=16,padding='same',activation='relu',\n",
    "                name='layer_conv1'))\n",
    "model.add(MaxPooling2D(pool_size=2,strides=2))\n",
    "\n",
    "model.add(Conv2D(kernel_size=5,strides=1,filters=36,padding='same',activation='relu',\n",
    "                name='layer_conv2'))\n",
    "model.add(MaxPooling2D(pool_size=2,strides=2))\n",
    "\n",
    "model.add(Flatten())\n",
    "model.add(Dense(128,activation='relu'))\n",
    "model.add(Dense(num_classes,activation='softmax'))"
   ]
  },
  {
   "cell_type": "code",
   "execution_count": 20,
   "metadata": {
    "ExecuteTime": {
     "end_time": "2018-04-20T05:53:49.131556Z",
     "start_time": "2018-04-20T05:53:48.729506Z"
    }
   },
   "outputs": [],
   "source": [
    "from tensorflow.python.keras.optimizers import Adam\n",
    "optimizer=Adam(lr=1e-3)"
   ]
  },
  {
   "cell_type": "code",
   "execution_count": 22,
   "metadata": {
    "ExecuteTime": {
     "end_time": "2018-04-20T05:55:43.225543Z",
     "start_time": "2018-04-20T05:55:29.418867Z"
    }
   },
   "outputs": [
    {
     "name": "stdout",
     "output_type": "stream",
     "text": [
      "Epoch 1/1\n",
      "55000/55000 [==============================] - 12s - loss: 0.2111 - acc: 0.9392    \n"
     ]
    },
    {
     "data": {
      "text/plain": [
       "<tensorflow.python.keras._impl.keras.callbacks.History at 0x25c61697e48>"
      ]
     },
     "execution_count": 22,
     "metadata": {},
     "output_type": "execute_result"
    }
   ],
   "source": [
    "model.compile(optimizer,loss='categorical_crossentropy',metrics=['accuracy'])\n",
    "\n",
    "\n",
    "model.fit(x=data.train.images,\n",
    "        y=data.train.labels,\n",
    "        epochs=1,\n",
    "        batch_size=128)"
   ]
  },
  {
   "cell_type": "code",
   "execution_count": 23,
   "metadata": {
    "ExecuteTime": {
     "end_time": "2018-04-20T05:56:08.968919Z",
     "start_time": "2018-04-20T05:56:07.093256Z"
    }
   },
   "outputs": [
    {
     "name": "stdout",
     "output_type": "stream",
     "text": [
      " 9984/10000 [============================>.] - ETA: 0s"
     ]
    }
   ],
   "source": [
    "result=model.evaluate(x=data.test.images,\n",
    "                      y=data.test.labels)"
   ]
  },
  {
   "cell_type": "code",
   "execution_count": 25,
   "metadata": {
    "ExecuteTime": {
     "end_time": "2018-04-20T05:57:23.292568Z",
     "start_time": "2018-04-20T05:57:22.893572Z"
    }
   },
   "outputs": [
    {
     "name": "stdout",
     "output_type": "stream",
     "text": [
      "loss 0.059926409448310736\n",
      "acc 0.9811\n"
     ]
    }
   ],
   "source": [
    "for name, value in zip(model.metrics_names,result):\n",
    "    print(name, value)"
   ]
  },
  {
   "cell_type": "code",
   "execution_count": 26,
   "metadata": {
    "ExecuteTime": {
     "end_time": "2018-04-20T05:57:45.433202Z",
     "start_time": "2018-04-20T05:57:45.036203Z"
    }
   },
   "outputs": [
    {
     "data": {
      "text/plain": [
       "['loss', 'acc']"
      ]
     },
     "execution_count": 26,
     "metadata": {},
     "output_type": "execute_result"
    }
   ],
   "source": [
    "model.metrics_names"
   ]
  },
  {
   "cell_type": "code",
   "execution_count": 27,
   "metadata": {
    "ExecuteTime": {
     "end_time": "2018-04-20T05:57:55.281961Z",
     "start_time": "2018-04-20T05:57:54.889929Z"
    }
   },
   "outputs": [
    {
     "data": {
      "text/plain": [
       "[0.059926409448310736, 0.9811]"
      ]
     },
     "execution_count": 27,
     "metadata": {},
     "output_type": "execute_result"
    }
   ],
   "source": [
    "result"
   ]
  },
  {
   "cell_type": "code",
   "execution_count": 30,
   "metadata": {
    "ExecuteTime": {
     "end_time": "2018-04-20T06:03:43.124657Z",
     "start_time": "2018-04-20T06:03:42.101578Z"
    }
   },
   "outputs": [
    {
     "data": {
      "image/png": "[encoded data removed]",
      "text/plain": [
       "<matplotlib.figure.Figure at 0x25ca7f5c160>"
      ]
     },
     "metadata": {},
     "output_type": "display_data"
    }
   ],
   "source": [
    "images=data.test.images[:9]\n",
    "cls_true=data.test.cls[:9]\n",
    "y_pred=model.predict(x=images)\n",
    "cls_pred=np.argmax(y_pred, axis=1)\n",
    "plot_images(\n",
    "    images,\n",
    "    cls_true,\n",
    "    (28,28),\n",
    "    cls_pred\n",
    ")"
   ]
  },
  {
   "cell_type": "code",
   "execution_count": 47,
   "metadata": {
    "ExecuteTime": {
     "end_time": "2018-04-20T06:14:40.115544Z",
     "start_time": "2018-04-20T06:14:38.775635Z"
    }
   },
   "outputs": [
    {
     "data": {
      "text/plain": [
       "array([ True,  True,  True, ...,  True,  True,  True])"
      ]
     },
     "execution_count": 47,
     "metadata": {},
     "output_type": "execute_result"
    }
   ],
   "source": [
    "y_pred = model.predict(x=data.test.images)\n",
    "cls_pred=np.argmax(y_pred,axis=1)\n",
    "cls_pred==data.test.cls"
   ]
  },
  {
   "cell_type": "code",
   "execution_count": 50,
   "metadata": {
    "ExecuteTime": {
     "end_time": "2018-04-20T06:15:05.881100Z",
     "start_time": "2018-04-20T06:15:05.480048Z"
    }
   },
   "outputs": [],
   "source": [
    "def plot_example_errors(cls_pred):\n",
    "    incorrect = (cls_pred!=data.test.cls)\n",
    "    images = data.test.images[incorrect]   \n",
    "    cls_pred = cls_pred[incorrect]\n",
    "    cls_true = data.test.cls[incorrect]\n",
    "    plot_images(images=images[0:9],\n",
    "                cls_true=cls_true[0:9],\n",
    "                img_shape=img_shape,\n",
    "                cls_pred=cls_pred[0:9])"
   ]
  },
  {
   "cell_type": "code",
   "execution_count": 51,
   "metadata": {
    "ExecuteTime": {
     "end_time": "2018-04-20T06:15:07.372063Z",
     "start_time": "2018-04-20T06:15:06.631092Z"
    }
   },
   "outputs": [
    {
     "data": {
      "image/png": "[encoded data removed]",
      "text/plain": [
       "<matplotlib.figure.Figure at 0x25c68c8e668>"
      ]
     },
     "metadata": {},
     "output_type": "display_data"
    }
   ],
   "source": [
    "plot_example_errors(cls_pred)"
   ]
  },
  {
   "cell_type": "code",
   "execution_count": 55,
   "metadata": {
    "ExecuteTime": {
     "end_time": "2018-04-20T06:19:00.606619Z",
     "start_time": "2018-04-20T06:19:00.101568Z"
    }
   },
   "outputs": [],
   "source": [
    "# functional model\n",
    "\n",
    "inputs = Input(shape=(img_size_flat,))\n",
    "net = inputs\n",
    "\n",
    "net = Reshape(img_shape_full)(net)\n",
    "net = Conv2D(kernel_size=5,strides=1,filters=16,padding='same',\n",
    "                activation='relu',\n",
    "                name='layer_conv1')(net)\n",
    "net = MaxPooling2D(pool_size=2,strides=2)(net)\n",
    "\n",
    "net = Conv2D(kernel_size=5,strides=1,filters=36,padding='same',\n",
    "                activation='relu',\n",
    "                name='layer_conv2')(net)\n",
    "net = MaxPooling2D(pool_size=2,strides=2)(net)\n",
    "\n",
    "net = Flatten()(net)\n",
    "net = Dense(128,activation='relu')(net)\n",
    "net = Dense(num_classes, activation='softmax')(net)\n",
    "\n",
    "outputs = net"
   ]
  },
  {
   "cell_type": "code",
   "execution_count": 57,
   "metadata": {
    "ExecuteTime": {
     "end_time": "2018-04-20T06:21:24.503408Z",
     "start_time": "2018-04-20T06:21:14.432517Z"
    }
   },
   "outputs": [
    {
     "name": "stdout",
     "output_type": "stream",
     "text": [
      "Epoch 1/1\n",
      "55000/55000 [==============================] - 9s - loss: 0.2926 - acc: 0.9127     \n"
     ]
    },
    {
     "data": {
      "text/plain": [
       "<tensorflow.python.keras._impl.keras.callbacks.History at 0x25cb8589208>"
      ]
     },
     "execution_count": 57,
     "metadata": {},
     "output_type": "execute_result"
    }
   ],
   "source": [
    "from tensorflow.python.keras.models import Model\n",
    "\n",
    "model2 = Model(inputs=inputs, outputs=outputs)\n",
    "model2.compile(optimizer='adadelta',loss='categorical_crossentropy',metrics=['accuracy'])\n",
    "model2.fit(x=data.train.images,\n",
    "           y=data.train.labels,\n",
    "           epochs=1,\n",
    "           batch_size=128) "
   ]
  },
  {
   "cell_type": "code",
   "execution_count": 59,
   "metadata": {
    "ExecuteTime": {
     "end_time": "2018-04-20T06:21:51.072161Z",
     "start_time": "2018-04-20T06:21:49.278759Z"
    }
   },
   "outputs": [
    {
     "name": "stdout",
     "output_type": "stream",
     "text": [
      " 9536/10000 [===========================>..] - ETA: 0s"
     ]
    }
   ],
   "source": [
    "result = model2.evaluate(x=data.test.images, y=data.test.labels)"
   ]
  },
  {
   "cell_type": "code",
   "execution_count": 60,
   "metadata": {
    "ExecuteTime": {
     "end_time": "2018-04-20T06:22:12.357661Z",
     "start_time": "2018-04-20T06:22:11.955661Z"
    }
   },
   "outputs": [
    {
     "data": {
      "text/plain": [
       "(['loss', 'acc'], [0.07406330580431968, 0.974])"
      ]
     },
     "execution_count": 60,
     "metadata": {},
     "output_type": "execute_result"
    }
   ],
   "source": [
    "model2.metrics_names, result"
   ]
  },
  {
   "cell_type": "code",
   "execution_count": 61,
   "metadata": {
    "ExecuteTime": {
     "end_time": "2018-04-20T06:22:48.405509Z",
     "start_time": "2018-04-20T06:22:47.604522Z"
    }
   },
   "outputs": [],
   "source": [
    "path = 'model.pt'\n",
    "model2.save(path)"
   ]
  },
  {
   "cell_type": "code",
   "execution_count": 63,
   "metadata": {
    "ExecuteTime": {
     "end_time": "2018-04-20T06:23:26.470935Z",
     "start_time": "2018-04-20T06:23:26.080908Z"
    }
   },
   "outputs": [],
   "source": [
    "from tensorflow.python.keras.models import load_model"
   ]
  },
  {
   "cell_type": "code",
   "execution_count": 64,
   "metadata": {
    "ExecuteTime": {
     "end_time": "2018-04-20T06:24:04.147091Z",
     "start_time": "2018-04-20T06:24:01.010839Z"
    }
   },
   "outputs": [
    {
     "name": "stdout",
     "output_type": "stream",
     "text": [
      " 9760/10000 [============================>.] - ETA: 0s"
     ]
    },
    {
     "data": {
      "text/plain": [
       "[0.07406330580431968, 0.974]"
      ]
     },
     "execution_count": 64,
     "metadata": {},
     "output_type": "execute_result"
    }
   ],
   "source": [
    "model3=load_model(path)\n",
    "model3.evaluate(x=data.test.images, y=data.test.labels)"
   ]
  },
  {
   "cell_type": "code",
   "execution_count": 65,
   "metadata": {
    "ExecuteTime": {
     "end_time": "2018-04-20T06:24:23.897069Z",
     "start_time": "2018-04-20T06:24:23.491067Z"
    }
   },
   "outputs": [
    {
     "name": "stdout",
     "output_type": "stream",
     "text": [
      "_________________________________________________________________\n",
      "Layer (type)                 Output Shape              Param #   \n",
      "=================================================================\n",
      "input_3 (InputLayer)         (None, 784)               0         \n",
      "_________________________________________________________________\n",
      "reshape_3 (Reshape)          (None, 28, 28, 1)         0         \n",
      "_________________________________________________________________\n",
      "layer_conv1 (Conv2D)         (None, 28, 28, 16)        416       \n",
      "_________________________________________________________________\n",
      "max_pooling2d_3 (MaxPooling2 (None, 14, 14, 16)        0         \n",
      "_________________________________________________________________\n",
      "layer_conv2 (Conv2D)         (None, 14, 14, 36)        14436     \n",
      "_________________________________________________________________\n",
      "max_pooling2d_4 (MaxPooling2 (None, 7, 7, 36)          0         \n",
      "_________________________________________________________________\n",
      "flatten_2 (Flatten)          (None, 1764)              0         \n",
      "_________________________________________________________________\n",
      "dense_3 (Dense)              (None, 128)               225920    \n",
      "_________________________________________________________________\n",
      "dense_4 (Dense)              (None, 10)                1290      \n",
      "=================================================================\n",
      "Total params: 242,062\n",
      "Trainable params: 242,062\n",
      "Non-trainable params: 0\n",
      "_________________________________________________________________\n"
     ]
    }
   ],
   "source": [
    "model3.summary()"
   ]
  },
  {
   "cell_type": "code",
   "execution_count": null,
   "metadata": {},
   "outputs": [],
   "source": []
  }
 ],
 "metadata": {
  "kernelspec": {
   "display_name": "Python 3",
   "language": "python",
   "name": "python3"
  }
 },
 "nbformat": 4,
 "nbformat_minor": 2
}
