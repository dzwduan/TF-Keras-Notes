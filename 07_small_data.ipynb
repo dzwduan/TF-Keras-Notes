{
 "cells": [
  {
   "cell_type": "code",
   "execution_count": 1,
   "metadata": {},
   "outputs": [
    {
     "name": "stderr",
     "output_type": "stream",
     "text": [
      "/home/dzw/anaconda3/lib/python3.6/site-packages/h5py/__init__.py:36: FutureWarning: Conversion of the second argument of issubdtype from `float` to `np.floating` is deprecated. In future, it will be treated as `np.float64 == np.dtype(float).type`.\n",
      "  from ._conv import register_converters as _register_converters\n"
     ]
    },
    {
     "name": "stdout",
     "output_type": "stream",
     "text": [
      "Platform: Linux-4.13.0-38-generic-x86_64-with-debian-stretch-sid\n",
      "Tensorflow version: 1.7.0\n",
      "Keras version: 2.1.5\n"
     ]
    },
    {
     "name": "stderr",
     "output_type": "stream",
     "text": [
      "Using TensorFlow backend.\n"
     ]
    }
   ],
   "source": [
    "# 這個Jupyter Notebook的環境\n",
    "import platform\n",
    "import tensorflow\n",
    "import keras\n",
    "print(\"Platform: {}\".format(platform.platform()))\n",
    "print(\"Tensorflow version: {}\".format(tensorflow.__version__))\n",
    "print(\"Keras version: {}\".format(keras.__version__))\n",
    "\n",
    "%matplotlib inline\n",
    "import matplotlib.pyplot as plt\n",
    "import matplotlib.image as mpimg\n",
    "import numpy as np\n",
    "from IPython.display import Image"
   ]
  },
  {
   "cell_type": "code",
   "execution_count": 2,
   "metadata": {},
   "outputs": [],
   "source": [
    "import os\n",
    "import shutil\n",
    "\n",
    "data_path = os.path.join('../data/train')"
   ]
  },
  {
   "cell_type": "code",
   "execution_count": 3,
   "metadata": {},
   "outputs": [],
   "source": [
    "#训练所需数据的地址\n",
    "def mkdir_if_not_exist(path):\n",
    "    if not os.path.exists(os.path.join(*path)):\n",
    "        os.makedirs(os.path.join(*path))\n",
    "train_dir = ['data','train']\n",
    "test_dir = ['data', 'test']\n",
    "valid_dir = ['data', 'valid']\n",
    "\n",
    "mkdir_if_not_exist(train_dir)\n",
    "mkdir_if_not_exist(test_dir)\n",
    "mkdir_if_not_exist(valid_dir)"
   ]
  },
  {
   "cell_type": "code",
   "execution_count": 5,
   "metadata": {},
   "outputs": [],
   "source": [
    "#在每个文件夹下创建dog cat 文件夹分类\n",
    "for dir in os.listdir('data'):\n",
    "    dog_dir = ['data',dir,'dog']\n",
    "    cat_dir = ['data',dir,'cat']\n",
    "    mkdir_if_not_exist(dog_dir)\n",
    "    mkdir_if_not_exist(cat_dir)"
   ]
  },
  {
   "cell_type": "code",
   "execution_count": 11,
   "metadata": {},
   "outputs": [],
   "source": [
    "# 实际未分类数据所在地址\n",
    "all_data = '../data/train'"
   ]
  },
  {
   "cell_type": "code",
   "execution_count": 12,
   "metadata": {},
   "outputs": [],
   "source": [
    "import os\n",
    "import random\n",
    "import shutil\n",
    "\n",
    "def organize_folder(folder):\n",
    "    _, _, filenames = next(os.walk(folder))\n",
    "    unique_classes = {filename.split(\".\")[0] for filename in filenames}\n",
    "    for _class in unique_classes:\n",
    "        path = os.path.join(folder, _class)\n",
    "        if not os.path.exists(path):\n",
    "            os.makedirs(path)\n",
    "        for filename in filenames:\n",
    "            if filename.startswith(_class):\n",
    "                shutil.move(os.path.join(folder, filename), os.path.join(path, filename))        \n",
    "    \n",
    "def create_sample_folder(_from, to, percentage=0.1, move=True):\n",
    "    if not os.path.exists(to):\n",
    "        os.makedirs(to)\n",
    "    _, folders, _ = next(os.walk(_from))\n",
    "    for folder in folders:\n",
    "        if not os.path.exists(os.path.join(to, folder)):\n",
    "            os.makedirs(os.path.join(to, folder))\n",
    "        _, _, files = next(os.walk(os.path.join(_from, folder)))\n",
    "        sample = random.sample(files, int(len(files) * percentage))\n",
    "        for filename in sample:\n",
    "            if move:\n",
    "                shutil.move(os.path.join(_from, folder, filename), os.path.join(to, folder, filename))\n",
    "            else:\n",
    "                shutil.copyfile(os.path.join(_from, folder, filename), os.path.join(to, folder, filename))"
   ]
  },
  {
   "cell_type": "code",
   "execution_count": 13,
   "metadata": {},
   "outputs": [],
   "source": [
    "organize_folder(all_data)"
   ]
  },
  {
   "cell_type": "code",
   "execution_count": 16,
   "metadata": {},
   "outputs": [],
   "source": [
    "create_sample_folder(all_data, os.path.join(*train_dir))\n",
    "create_sample_folder(all_data, os.path.join(*test_dir))\n",
    "create_sample_folder(all_data, os.path.join(*valid_dir))"
   ]
  },
  {
   "cell_type": "code",
   "execution_count": 23,
   "metadata": {},
   "outputs": [
    {
     "name": "stdout",
     "output_type": "stream",
     "text": [
      "\u001b[0m\u001b[01;34mtest\u001b[0m/\n",
      "\u001b[01;34mtrain\u001b[0m/\n",
      "\u001b[01;34mvalid\u001b[0m/\n"
     ]
    }
   ],
   "source": [
    "ls 'data' | head"
   ]
  },
  {
   "cell_type": "code",
   "execution_count": 24,
   "metadata": {},
   "outputs": [
    {
     "name": "stdout",
     "output_type": "stream",
     "text": [
      "\u001b[0m\u001b[01;34mcat\u001b[0m/\n",
      "\u001b[01;34mdog\u001b[0m/\n"
     ]
    }
   ],
   "source": [
    "ls 'data/train' | head"
   ]
  },
  {
   "cell_type": "code",
   "execution_count": 26,
   "metadata": {},
   "outputs": [
    {
     "name": "stdout",
     "output_type": "stream",
     "text": [
      "Found 2500 images belonging to 2 classes.\n",
      "Found 2024 images belonging to 2 classes.\n"
     ]
    }
   ],
   "source": [
    "from keras.preprocessing.image import ImageDataGenerator\n",
    "\n",
    "#归一化处理\n",
    "train_datagen = ImageDataGenerator(rescale=1./255)\n",
    "test_datagen = ImageDataGenerator(rescale=1./255)\n",
    "\n",
    "#keras 数据读取机制\n",
    "train_gen = train_datagen.flow_from_directory(\n",
    "    os.path.join(*train_dir),\n",
    "    target_size=(150,150),\n",
    "    batch_size=24,\n",
    "    class_mode='binary'\n",
    ")\n",
    "\n",
    "valid_gen = test_datagen.flow_from_directory(\n",
    "    os.path.join(*valid_dir),\n",
    "    target_size=(150, 150),\n",
    "    batch_size=24,\n",
    "    class_mode='binary'\n",
    ")"
   ]
  },
  {
   "cell_type": "code",
   "execution_count": 27,
   "metadata": {},
   "outputs": [
    {
     "name": "stdout",
     "output_type": "stream",
     "text": [
      "data batch shape: (24, 150, 150, 3)\n",
      "labels batch shape: (24,)\n"
     ]
    }
   ],
   "source": [
    "# 查看一次的输出\n",
    "for data, label in train_gen:\n",
    "    print('data batch shape:', data.shape)\n",
    "    print('labels batch shape:', label.shape)\n",
    "    break"
   ]
  },
  {
   "cell_type": "code",
   "execution_count": null,
   "metadata": {},
   "outputs": [],
   "source": []
  }
 ],
 "metadata": {
  "kernelspec": {
   "display_name": "Python 3",
   "language": "python",
   "name": "python3"
  },
  "language_info": {
   "codemirror_mode": {
    "name": "ipython",
    "version": 3
   },
   "file_extension": ".py",
   "mimetype": "text/x-python",
   "name": "python",
   "nbconvert_exporter": "python",
   "pygments_lexer": "ipython3",
   "version": "3.6.4"
  }
 },
 "nbformat": 4,
 "nbformat_minor": 2
}
